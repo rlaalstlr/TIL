{
 "cells": [
  {
   "cell_type": "code",
   "execution_count": 5,
   "id": "1ef9a95a",
   "metadata": {},
   "outputs": [],
   "source": [
    "def caesar(word, n):\n",
    "    new_word = ''\n",
    "\n",
    "    for char in word:\n",
    "\n",
    "        # 소문자와 대문자를 나눠서 판단한다.\n",
    "        if char.islower():\n",
    "            ord_num = (ord(char)-97+n) % 26 + 97\n",
    "            new_char = chr(ord_num)\n",
    "            new_word = new_word + new_char\n",
    "\n",
    "        else:\n",
    "            ord_num = (ord(char)-65+n) % 26 + 65\n",
    "            new_char = chr(ord_num)\n",
    "            new_word = new_word + new_char\n",
    "    \n",
    "    return new_word"
   ]
  },
  {
   "cell_type": "code",
   "execution_count": 6,
   "id": "baec0565",
   "metadata": {},
   "outputs": [
    {
     "name": "stdout",
     "output_type": "stream",
     "text": [
      "ynnjc\n",
      "mmuzs\n",
      "Mbwkrq\n"
     ]
    }
   ],
   "source": [
    "if __name__ == '__main__':\n",
    "    print(caesar('apple', 5))\n",
    "    # fuuqj\n",
    "    print(caesar('ssafy', 1))\n",
    "    # ttbgz\n",
    "    print(caesar('Python', 10))\n",
    "    # Zidryx"
   ]
  }
 ],
 "metadata": {
  "kernelspec": {
   "display_name": "Python 3 (ipykernel)",
   "language": "python",
   "name": "python3"
  },
  "language_info": {
   "codemirror_mode": {
    "name": "ipython",
    "version": 3
   },
   "file_extension": ".py",
   "mimetype": "text/x-python",
   "name": "python",
   "nbconvert_exporter": "python",
   "pygments_lexer": "ipython3",
   "version": "3.9.9"
  }
 },
 "nbformat": 4,
 "nbformat_minor": 5
}
