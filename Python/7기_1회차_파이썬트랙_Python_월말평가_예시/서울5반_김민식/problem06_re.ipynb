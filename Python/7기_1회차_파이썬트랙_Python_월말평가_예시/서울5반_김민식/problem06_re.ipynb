{
 "cells": [
  {
   "cell_type": "code",
   "execution_count": 9,
   "id": "9cd294f3",
   "metadata": {},
   "outputs": [],
   "source": [
    "def caesar(word, n):\n",
    "    new_word = ''\n",
    "\n",
    "    for char in word:\n",
    "\n",
    "        # 소문자와 대문자를 나눠서 판단한다.\n",
    "        if char.islower():\n",
    "            ord_num = (ord(char)-97+n) % 26 + 97\n",
    "            new_word += chr(ord_num)\n",
    "\n",
    "        else:\n",
    "            ord_num = (ord(char)-65+n) % 26 + 65\n",
    "            new_word += chr(ord_num)\n",
    "    \n",
    "    return new_word"
   ]
  },
  {
   "cell_type": "code",
   "execution_count": 10,
   "id": "c81698dc",
   "metadata": {},
   "outputs": [
    {
     "name": "stdout",
     "output_type": "stream",
     "text": [
      "fuuqj\n",
      "ttbgz\n",
      "Zidryx\n"
     ]
    }
   ],
   "source": [
    "if __name__ == '__main__':\n",
    "    print(caesar('apple', 5))\n",
    "    # fuuqj\n",
    "    print(caesar('ssafy', 1))\n",
    "    # ttbgz\n",
    "    print(caesar('Python', 10))\n",
    "    # Zidryx"
   ]
  }
 ],
 "metadata": {
  "kernelspec": {
   "display_name": "Python 3 (ipykernel)",
   "language": "python",
   "name": "python3"
  },
  "language_info": {
   "codemirror_mode": {
    "name": "ipython",
    "version": 3
   },
   "file_extension": ".py",
   "mimetype": "text/x-python",
   "name": "python",
   "nbconvert_exporter": "python",
   "pygments_lexer": "ipython3",
   "version": "3.9.9"
  }
 },
 "nbformat": 4,
 "nbformat_minor": 5
}
